{
  "nbformat": 4,
  "nbformat_minor": 0,
  "metadata": {
    "colab": {
      "provenance": []
    },
    "kernelspec": {
      "name": "python3",
      "display_name": "Python 3"
    },
    "language_info": {
      "name": "python"
    }
  },
  "cells": [
    {
      "cell_type": "markdown",
      "source": [
        "1.What is Python, and why is it popular?\n",
        "  --\n",
        "  Python is a high-level, interpreted programming language known for its   simple syntax and readability.\n",
        "  * Reasons for popularity:\n",
        "     1.Easy to learn and use\n",
        "     2.Rich standard libraries\n",
        "     3.Strong community support\n",
        "\n",
        "2.What is an interpreter in Python?\n",
        "--\n",
        "  An interpreter reads and executes Python code line by line.\n",
        "\n",
        "3.What are pre-defined keywords in Python?\n",
        "--\n",
        "  Pre defined means Keywords are reserved words that have special meaning in Python.\n",
        "\n",
        "  Ex - if, else, while, for, null, def.. etc\n",
        "\n",
        "4.Can keywords be used as variable names?\n",
        "--\n",
        "  No, because keywords have special function in python.\n",
        "\n",
        "5.What is mutability in Python?\n",
        "--\n",
        "  Mutability means whether an object’s content can be changed after it’s created.\n",
        "\n",
        "  Mutable: list, dict, set\n",
        "\n",
        "6.Why are lists mutable, but tuples are immutable?\n",
        "--\n",
        "  Lists are designed to store dynamic data, so they allow changes.\n",
        "  Tuples are used for fixed data, so Python optimizes them to be immutable for performance and safety.\n",
        "\n",
        "7.What is the difference between “==” and “is”    operators in Python?\n",
        "--\n",
        "  a == b (True if values same)\n",
        "  a is b (True if same object)\n",
        "\n",
        "8.What are logical operators in Python?\n",
        "--\n",
        "  and, or, not all are logical operators.\n",
        "\n",
        "9.What is type casting in Python?\n",
        "--\n",
        "  Type casting is converting a value from one data type to another.\n",
        "\n",
        "10.What is the difference between implicit and explicit type casting?\n",
        "--\n",
        "  implicit type casting: When Python convert data type internally then its known as Implicit type casting\n",
        "  Explicit type casting: When user convert data type externally using int(), float(), str() and float(), then its known as Explicit type casting.\n",
        "\n",
        "11.What is the purpose of conditional statements in Python?\n",
        "--\n",
        "  Conditional statements (if, elif, else) allow Python programs to make decisions and execute different blocks of code based on conditions.\n",
        "12.How does the elif statement work?\n",
        "--\n",
        "  elif (else if) is used to test multiple conditions:\n",
        "  ex-\n",
        "  x = 5\n",
        "if x == 1:\n",
        "    print(\"One\")\n",
        "elif x == 5:\n",
        "    print(\"Five\")\n",
        "else:\n",
        "    print(\"Other\")\n",
        "\n",
        "13.What is the difference between for and while loops?\n",
        "--\n",
        "  for\tLoop over a known sequence for i in range(5):\n",
        "  while\tLoop until a condition becomes false\twhile x < 5:\n",
        "\n",
        "14.Describe a scenario where a while loop is more suitable than a for loop.\n",
        "--\n",
        "  We use while when the number of iterations is unknown."
      ],
      "metadata": {
        "id": "dBd8A8z160t3"
      }
    },
    {
      "cell_type": "code",
      "source": [
        "#Write a Python program to print \"Hello, World!\n",
        "print(\"Hello\",\"World\")"
      ],
      "metadata": {
        "colab": {
          "base_uri": "https://localhost:8080/"
        },
        "id": "qrOHXV__sli0",
        "outputId": "a598de13-68d7-487b-c6ab-8805323d9587"
      },
      "execution_count": 1,
      "outputs": [
        {
          "output_type": "stream",
          "name": "stdout",
          "text": [
            "Hello World\n"
          ]
        }
      ]
    },
    {
      "cell_type": "code",
      "source": [
        "#Write a Python program that displays your name and age.\n",
        "name = \"SUBHAM\"\n",
        "age = 23\n",
        "print(\"my name is\", name,\"and \" \"age is\",age)"
      ],
      "metadata": {
        "colab": {
          "base_uri": "https://localhost:8080/"
        },
        "id": "ftwM5dO9tTQ6",
        "outputId": "8233ef6e-2388-4a74-d6e6-b028048d7589"
      },
      "execution_count": 2,
      "outputs": [
        {
          "output_type": "stream",
          "name": "stdout",
          "text": [
            "my name is SUBHAM and age is 23\n"
          ]
        }
      ]
    },
    {
      "cell_type": "code",
      "source": [
        "#Write code to print all the pre-defined keywords in Python using the keyword library.\n",
        "import keyword\n",
        "print(keyword.kwlist)"
      ],
      "metadata": {
        "colab": {
          "base_uri": "https://localhost:8080/"
        },
        "id": "ePGJ9R6auCaQ",
        "outputId": "aa642963-a05e-49c3-be98-fbcfd226cd4e"
      },
      "execution_count": 3,
      "outputs": [
        {
          "output_type": "stream",
          "name": "stdout",
          "text": [
            "['False', 'None', 'True', 'and', 'as', 'assert', 'async', 'await', 'break', 'class', 'continue', 'def', 'del', 'elif', 'else', 'except', 'finally', 'for', 'from', 'global', 'if', 'import', 'in', 'is', 'lambda', 'nonlocal', 'not', 'or', 'pass', 'raise', 'return', 'try', 'while', 'with', 'yield']\n"
          ]
        }
      ]
    },
    {
      "cell_type": "code",
      "source": [
        "#Write a program that checks if a given word is a Python keyword.\n",
        "import keyword\n",
        "word = input(\"Enter the word\")\n",
        "if keyword.iskeyword(word):\n",
        "  print(\"Yes given word is keyword:\",word)\n",
        "else:\n",
        "  print(\"No, given word is not keyword:\",word)"
      ],
      "metadata": {
        "colab": {
          "base_uri": "https://localhost:8080/"
        },
        "id": "2Jz7tG80uehw",
        "outputId": "291ef27b-d8ee-47c2-bd94-1386e3d5834e"
      },
      "execution_count": 4,
      "outputs": [
        {
          "output_type": "stream",
          "name": "stdout",
          "text": [
            "Enter the wordif\n",
            "Yes given word is keyword: if\n"
          ]
        }
      ]
    },
    {
      "cell_type": "code",
      "source": [
        "# Create a list and tuple in Python, and demonstrate how attempting to change an element works differently for each\n",
        "\n",
        "# Creating a list (mutable)\n",
        "my_list = [10, 20, 30]\n",
        "print(\"Original list:\", my_list)\n",
        "\n",
        "# Modifying the list\n",
        "my_list[1] = 99\n",
        "print(\"Modified list:\", my_list)\n",
        "\n",
        "print(\"----------------------------\")\n",
        "\n",
        "# Creating a tuple (immutable)\n",
        "my_tuple = (10, 20, 30)\n",
        "print(\"Original tuple:\", my_tuple)\n",
        "\n",
        "# Attempting to modify the tuple\n",
        "try:\n",
        "    my_tuple[1] = 99  # This will raise an error\n",
        "except TypeError as e:\n",
        "    print(\"Error while modifying tuple:\", e)"
      ],
      "metadata": {
        "colab": {
          "base_uri": "https://localhost:8080/"
        },
        "id": "8zLYyKW_vclX",
        "outputId": "b802a597-6db4-4716-a186-ed0a3d246da8"
      },
      "execution_count": 5,
      "outputs": [
        {
          "output_type": "stream",
          "name": "stdout",
          "text": [
            "Original list: [10, 20, 30]\n",
            "Modified list: [10, 99, 30]\n",
            "----------------------------\n",
            "Original tuple: (10, 20, 30)\n",
            "Error while modifying tuple: 'tuple' object does not support item assignment\n"
          ]
        }
      ]
    },
    {
      "cell_type": "code",
      "source": [
        "#Write a function to demonstrate the behavior of mutable and immutable arguments.\n",
        "# Function to modify both a list (mutable) and a string (immutable)\n",
        "def modify_arguments(my_list, my_string):\n",
        "    my_list.append(100)\n",
        "    my_string += \" World\"\n",
        "    print(\"Inside function - List:\", my_list)\n",
        "    print(\"Inside function - String:\", my_string)\n",
        "\n",
        "# Define a list and a string\n",
        "original_list = [1, 2, 3]\n",
        "original_string = \"Hello\"\n",
        "\n",
        "# Call the function\n",
        "modify_arguments(original_list, original_string)\n",
        "\n",
        "# Print after function call\n",
        "print(\"After function call - List:\", original_list)\n",
        "print(\"After function call - String:\", original_string)\n",
        "\n"
      ],
      "metadata": {
        "id": "UCCkfPfSwbPS",
        "colab": {
          "base_uri": "https://localhost:8080/"
        },
        "outputId": "3c3aeaf6-e022-472f-9d69-2f059fbed27b"
      },
      "execution_count": 6,
      "outputs": [
        {
          "output_type": "stream",
          "name": "stdout",
          "text": [
            "Inside function - List: [1, 2, 3, 100]\n",
            "Inside function - String: Hello World\n",
            "After function call - List: [1, 2, 3, 100]\n",
            "After function call - String: Hello\n"
          ]
        }
      ]
    },
    {
      "cell_type": "code",
      "source": [
        "#Write a program that performs basic arithmetic operations on two user-input numbers\n",
        "num1=float(input('Enter number 1:'))\n",
        "num2=float(input('Enter number 2:'))\n",
        "print('Addition: ',num1+num2)\n",
        "print('Substraction: ',num1-num2)\n",
        "print('Multiplication: ',num1*num2)\n",
        "print('Division: ',num1/num2)"
      ],
      "metadata": {
        "colab": {
          "base_uri": "https://localhost:8080/"
        },
        "id": "DbVkktyIBZP1",
        "outputId": "498298d2-c066-4c50-d6d5-8b971d15a0cb"
      },
      "execution_count": 8,
      "outputs": [
        {
          "output_type": "stream",
          "name": "stdout",
          "text": [
            "Enter number 1:40\n",
            "Enter number 2:10\n",
            "Addition:  50.0\n",
            "Substraction:  30.0\n",
            "Multiplication:  400.0\n",
            "Division:  4.0\n"
          ]
        }
      ]
    },
    {
      "cell_type": "code",
      "source": [
        "#Write a program to demonstrate the use of logical operators\n",
        "a=True\n",
        "b=False\n",
        "print(\"a and b:\", a and b)\n",
        "print(\"a or b:\", a or b)\n",
        "print(\"not a:\", not a)"
      ],
      "metadata": {
        "colab": {
          "base_uri": "https://localhost:8080/"
        },
        "id": "CY4TQQFUB68t",
        "outputId": "12fc25f2-2ebb-4178-afc5-b768f5fb6011"
      },
      "execution_count": 9,
      "outputs": [
        {
          "output_type": "stream",
          "name": "stdout",
          "text": [
            "a and b: False\n",
            "a or b: True\n",
            "not a: False\n"
          ]
        }
      ]
    },
    {
      "cell_type": "code",
      "source": [
        "#Write a Python program to convert user input from string to integer, float, and boolean types\n",
        "user_input=input(\"Enter any string: \")\n",
        "print(\"Interger is:\",int(user_input))\n",
        "print(\"Float is:\",float(user_input))\n",
        "print(\"Boolean is:\",bool(user_input))"
      ],
      "metadata": {
        "colab": {
          "base_uri": "https://localhost:8080/"
        },
        "id": "_c54C-MRCWOi",
        "outputId": "911a5b9b-28d8-43f6-de91-3d74746df846"
      },
      "execution_count": 14,
      "outputs": [
        {
          "output_type": "stream",
          "name": "stdout",
          "text": [
            "Enter any string: 87\n",
            "Interger is: 87\n",
            "Float is: 87.0\n",
            "Boolean is: True\n"
          ]
        }
      ]
    },
    {
      "cell_type": "code",
      "source": [
        "#Write code to demonstrate type casting with list elements\n",
        "lst=['1','2','3']\n",
        "int_lst=[int(i) for i in lst]\n",
        "print(int_lst)"
      ],
      "metadata": {
        "colab": {
          "base_uri": "https://localhost:8080/"
        },
        "id": "HhSz5vW6Co1l",
        "outputId": "bd4220c8-7c11-42f6-a41c-542d7bd7c264"
      },
      "execution_count": 12,
      "outputs": [
        {
          "output_type": "stream",
          "name": "stdout",
          "text": [
            "[1, 2, 3]\n"
          ]
        }
      ]
    },
    {
      "cell_type": "code",
      "source": [
        "#Write a program that checks if a number is positive, negative, or zero.\n",
        "num=float(input(\"Enter any number:\"))\n",
        "if num == 0:\n",
        "  print(\"Number is zero\")\n",
        "elif num >0:\n",
        "  print(\"Number is positive: \")\n",
        "else:\n",
        "  print(\"Number is negative\")"
      ],
      "metadata": {
        "colab": {
          "base_uri": "https://localhost:8080/"
        },
        "id": "u6afMjMPDOwd",
        "outputId": "3546d6a8-670d-422c-aaa3-51f451f5f1eb"
      },
      "execution_count": 13,
      "outputs": [
        {
          "output_type": "stream",
          "name": "stdout",
          "text": [
            "Enter any number:-4\n",
            "Number is negative\n"
          ]
        }
      ]
    },
    {
      "cell_type": "code",
      "source": [
        "#Write a for loop to print numbers from 1 to 10.\n",
        "for i in range (1,11):\n",
        "  print(i)"
      ],
      "metadata": {
        "colab": {
          "base_uri": "https://localhost:8080/"
        },
        "id": "eKdlvrwEDcIx",
        "outputId": "c065766f-1bce-4897-f433-384650fe6654"
      },
      "execution_count": 15,
      "outputs": [
        {
          "output_type": "stream",
          "name": "stdout",
          "text": [
            "1\n",
            "2\n",
            "3\n",
            "4\n",
            "5\n",
            "6\n",
            "7\n",
            "8\n",
            "9\n",
            "10\n"
          ]
        }
      ]
    },
    {
      "cell_type": "code",
      "source": [
        "#Write a Python program to find the sum of all even numbers between 1 and 50\n",
        "total=0\n",
        "for i in range (1, 51):\n",
        "  if i%2==0:\n",
        "    total=total+i\n",
        "\n",
        "print(\"Sum os all even number is: \",total)"
      ],
      "metadata": {
        "colab": {
          "base_uri": "https://localhost:8080/"
        },
        "id": "LghF_AXMDsqe",
        "outputId": "e8bf3429-d834-40a4-a2b1-9babc50735c2"
      },
      "execution_count": 16,
      "outputs": [
        {
          "output_type": "stream",
          "name": "stdout",
          "text": [
            "Sum os all even number is:  650\n"
          ]
        }
      ]
    },
    {
      "cell_type": "code",
      "source": [
        "#Write a program to reverse a string using a while loop\n",
        "user_string = input(\"Enter a string: \")\n",
        "reversed_string = \"\"\n",
        "index = len(user_string) - 1\n",
        "\n",
        "while index >= 0:\n",
        "    reversed_string =reversed_string+ user_string[index]\n",
        "    index =index - 1\n",
        "\n",
        "print(\"Reversed string:\", reversed_string)"
      ],
      "metadata": {
        "colab": {
          "base_uri": "https://localhost:8080/"
        },
        "id": "VlzqtsDWD7yx",
        "outputId": "ac2eaadb-bae7-4eb1-becb-f24dd94d6ed4"
      },
      "execution_count": 17,
      "outputs": [
        {
          "output_type": "stream",
          "name": "stdout",
          "text": [
            "Enter a string: subham\n",
            "Reversed string: mahbus\n"
          ]
        }
      ]
    },
    {
      "cell_type": "code",
      "source": [
        "#Write a Python program to calculate the factorial of a number provided by the user using a while loop\n",
        "num = int(input(\"Enter a number: \"))\n",
        "factorial = 1\n",
        "i = 1\n",
        "\n",
        "while i <= num:\n",
        "    factorial *= i\n",
        "    i += 1\n",
        "\n",
        "print(\"Factorial of\", num, \"is\", factorial)"
      ],
      "metadata": {
        "colab": {
          "base_uri": "https://localhost:8080/"
        },
        "id": "bGpf3DivEIJ9",
        "outputId": "0b3bc62f-17d7-41b8-ed17-3ec801adf342"
      },
      "execution_count": 19,
      "outputs": [
        {
          "output_type": "stream",
          "name": "stdout",
          "text": [
            "Enter a number: 4\n",
            "Factorial of 4 is 24\n"
          ]
        }
      ]
    },
    {
      "cell_type": "code",
      "source": [],
      "metadata": {
        "id": "pXWM7A5XEcal"
      },
      "execution_count": null,
      "outputs": []
    }
  ]
}