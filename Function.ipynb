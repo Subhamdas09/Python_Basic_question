{
  "nbformat": 4,
  "nbformat_minor": 0,
  "metadata": {
    "colab": {
      "provenance": []
    },
    "kernelspec": {
      "name": "python3",
      "display_name": "Python 3"
    },
    "language_info": {
      "name": "python"
    }
  },
  "cells": [
    {
      "cell_type": "markdown",
      "source": [
        "                   Theory Questions\n",
        "1.What is the difference between a function and a method in Python?\n",
        "--\n",
        "Functions are independent blocks of code that can be called from anywhere, whereas methods are tied to objects or classes and need an object or class instance to be invoked.\n",
        "\n",
        "2.Explain the concept of function arguments and parameters in Python.\n",
        "--\n",
        "Function arguments are values that you provide to a function when you call it. These arguments can be used by the function to perform specific tasks. A parameter is the variable defined within the parentheses when we declare a function.\n",
        "Example - # function to find square of a number def square(a): # where ‘a’ is parameter return a**2 square(6) # where 6 is an argument * #output* 36\n",
        "\n",
        "3.What are the different ways to define and call a function in Python?\n",
        "--\n",
        "The differnt ways to didine and call a function in python are-\n",
        "1.\tBasic function definition and call:- This is the most common way to define and call a function.\n",
        "Example- # Function definition def greets(): print(“Hello”) # Function call greets()\n",
        "\n",
        "Output: Hello\n",
        "2.\tFunction with arguments:- Example - #Function call def sum (a,b): return a+b * # Function call*\n",
        "sum(4,6)\n",
        "\n",
        "output: 10\n",
        "\n",
        "4.What is the purpose of the ‘return’ statement in a python function ?\n",
        "--\n",
        "The purpose of the ‘return’ statement in a python function to give the output of a function by ending the execution of the function call.\n",
        "\n",
        "5.What are iterators in Python and how do they differ from iterables?\n",
        "--\n",
        "Iterators in python are an object representing a stream of data and return the data one by one. They are differ from iterables as an iterable is basically an object that any user can iterate over. Every iterator is basically iterable but not vice-versa. Example- s =“book” # string is iterable a = iter(s) # iterator object next(a) ‘b’ next(a) ‘o’ next(a) ‘o’ next(a) ‘k’ 6) Explain the concept of generators in python and how they are defined.\n",
        "\n",
        "6.Explain the concept of generators in Python and how they are defined.\n",
        "--\n",
        "Generator functions in python are a way to create iterators in a more concise and memomryefficient manner. These functions allow you to iterate over a potentially large sequence of data without loading the entire sequence into memory. Here , instead of using return to send a value back to the caller, generator function uses ‘yield’. def pw_generator(): yield 1 yield 2\n",
        "\n",
        "7.What are the advantages of using generators over regular functions?\n",
        "--\n",
        "The advantages of using generators over regular functions is that the generators use ‘yield’ keyword to produce a series of values over time , one at a time , rather than returning a single result which helps in usage of memory will be less. Example - # Execution by regular function def square_number(n): result =[] for i in range(n): result.append(i**2) return result square_number(10) # output: [1,4,9,16,25,36,49,64,81]\n",
        "\n",
        "8.What is a lambda function in Python and when is it typically used?\n",
        "--\n",
        "Generator functions in python are a way to create iterators in a more concise and memomryefficient manner. These functions allow you to iterate over a potentially large sequence of data without loading the entire sequence into memory. Here , instead of using return to send a value back to the caller, generator function uses ‘yield’. def pw_generator(): yield 1 yield 2\n",
        "\n",
        "9.Explain the purpose and usage of the  function in Python.\n",
        "--\n",
        "The purpose and usage of the ‘map()’ function in python is to execute a specified function for each item in an ‘iterable’ and the item is sent to the function as a parameter. It starts by applying the function to the first items , then second items and so on. Example- num = [1,2,3,4] square_num = list(map(lambda x:x**2,num)) print(square_num) #output\n",
        ": [1,4,9,15]\n",
        "\n",
        "10.What is the difference between  and Tilter() functions in Python?\n",
        "--\n",
        "The differnce between ‘map()’ , ‘reduce()’ and ‘filter()’ functions in python are-\n",
        "•\tMap() - Executes a specified function for each of item of an iterable. Example: num_as_strings = [“2”,“4”,“6”,“8”] num_as_integers = list(map(int,num_as_strings)) print(num_as_integers)\n",
        "\n",
        "output: [2,4,6,8]\n",
        "\n",
        "•\tReduce() - It implements a mathematical technique commonly known as ‘folding’ or ‘reduction’. It is a process where you reduce a list of items to a single value( cumulative value). Example: from functools import reduce num = [1,2,3,4] total_sum = reduce(lambda( x,y:x+y, num)) print(total_sum)\n",
        "\n",
        "output: 10\n",
        "\n",
        "•\tFilter() - It is used to filter elements from an iterable based on some condition. Example: l1\n",
        "=[-1,-2,3,4,5] list(filter(lambda x: x<0,l1))\n",
        "\n",
        "0utput: [-1,-2]\n",
        "\n",
        "11.Using pen and paper write internal mechanism for sum operation using reduce function on this given list: [47,11,42,13].\n",
        "--\n",
        "\n"
      ],
      "metadata": {
        "id": "K85h1EZbSrIq"
      }
    },
    {
      "cell_type": "markdown",
      "source": [
        "![IMG_20250617_181732.jpg]()"
      ],
      "metadata": {
        "id": "1ZhtVEqcRgvE"
      }
    },
    {
      "cell_type": "markdown",
      "source": [],
      "metadata": {
        "id": "-SkijMklPjOM"
      }
    },
    {
      "cell_type": "code",
      "source": [
        "#1.\tWrite a Python function that takes a list of numbers as input and returns the sum of all even numbers in the list.\n",
        "def sum_even_numbers(numbers):\n",
        "    sum = 0\n",
        "    for num in numbers:\n",
        "        if num % 2 == 0:\n",
        "            sum += num\n",
        "    return sum\n"
      ],
      "metadata": {
        "id": "HQi4nePYTEpF"
      },
      "execution_count": null,
      "outputs": []
    },
    {
      "cell_type": "code",
      "source": [
        "sum_even_numbers([1,2,3,4,5,6,7,8,9,10])\n"
      ],
      "metadata": {
        "colab": {
          "base_uri": "https://localhost:8080/"
        },
        "id": "kore7Z2SIZON",
        "outputId": "f153f349-83fb-4c4d-c704-ee6af253699c"
      },
      "execution_count": null,
      "outputs": [
        {
          "output_type": "execute_result",
          "data": {
            "text/plain": [
              "30"
            ]
          },
          "metadata": {},
          "execution_count": 13
        }
      ]
    },
    {
      "cell_type": "code",
      "source": [
        "#2.\tCreate a Python function that accepts a string and returns the reverse of that string\n",
        "def reverse_string():\n",
        "  string = input(\"Enter the string\")\n",
        "  return string[::-1]"
      ],
      "metadata": {
        "id": "WttieAAYIhu1"
      },
      "execution_count": null,
      "outputs": []
    },
    {
      "cell_type": "code",
      "source": [
        "reverse_string()\n"
      ],
      "metadata": {
        "colab": {
          "base_uri": "https://localhost:8080/",
          "height": 53
        },
        "id": "xXlxv28Zqdp4",
        "outputId": "bb902055-7ec7-422d-e5cd-abc733250b71"
      },
      "execution_count": null,
      "outputs": [
        {
          "name": "stdout",
          "output_type": "stream",
          "text": [
            "Enter the stringi love you\n"
          ]
        },
        {
          "output_type": "execute_result",
          "data": {
            "text/plain": [
              "'uoy evol i'"
            ],
            "application/vnd.google.colaboratory.intrinsic+json": {
              "type": "string"
            }
          },
          "metadata": {},
          "execution_count": 4
        }
      ]
    },
    {
      "cell_type": "code",
      "source": [
        "#3.\tImplement a Python function that takes a list of integers and returns a new list containing the squares of each number.\n",
        "def square_list(numbers):\n",
        "    squares = []\n",
        "    for num in numbers:\n",
        "        squares.append(num ** 2)\n",
        "    return squares\n",
        "\n"
      ],
      "metadata": {
        "id": "Eg2LSKvPqhDT"
      },
      "execution_count": null,
      "outputs": []
    },
    {
      "cell_type": "code",
      "source": [
        "square_list([1, 2, 3, 4])"
      ],
      "metadata": {
        "colab": {
          "base_uri": "https://localhost:8080/"
        },
        "id": "h96N3Ay8rfRY",
        "outputId": "870fdc5a-8e6c-4d7e-befa-5d8006655c30"
      },
      "execution_count": null,
      "outputs": [
        {
          "output_type": "execute_result",
          "data": {
            "text/plain": [
              "[1, 4, 9, 16]"
            ]
          },
          "metadata": {},
          "execution_count": 20
        }
      ]
    },
    {
      "cell_type": "code",
      "source": [
        "#4.\tWrite a Python function that checks if a given number is prime or not from 1 to 200.\n",
        "def is_prime(n):\n",
        "    if n < 2:\n",
        "        return False\n",
        "    for i in range(2, int(n**0.5)+1):\n",
        "        if n % i == 0:\n",
        "            return False\n",
        "    return True\n",
        "\n",
        "# Check primes from 1 to 200\n",
        "primes = [num for num in range(1, 201) if is_prime(num)]\n",
        "print(primes)\n"
      ],
      "metadata": {
        "colab": {
          "base_uri": "https://localhost:8080/"
        },
        "id": "tFwwIRs4xWST",
        "outputId": "e90bec0e-f32d-4b79-b335-63052f66ac22"
      },
      "execution_count": null,
      "outputs": [
        {
          "output_type": "stream",
          "name": "stdout",
          "text": [
            "[2, 3, 5, 7, 11, 13, 17, 19, 23, 29, 31, 37, 41, 43, 47, 53, 59, 61, 67, 71, 73, 79, 83, 89, 97, 101, 103, 107, 109, 113, 127, 131, 137, 139, 149, 151, 157, 163, 167, 173, 179, 181, 191, 193, 197, 199]\n"
          ]
        }
      ]
    },
    {
      "cell_type": "code",
      "source": [
        "#5.\tCreate an iterator class in Python that generates the Fibonacci sequence up to a specified number of terms.\n",
        "class Fibonacci:\n",
        "    def __init__(self, max_terms):\n",
        "        self.max_terms = max_terms\n",
        "        self.count = 0\n",
        "        self.a = 0\n",
        "        self.b = 1\n",
        "\n",
        "    def __iter__(self):\n",
        "        return self\n",
        "\n",
        "    def __next__(self):\n",
        "        if self.count >= self.max_terms:\n",
        "            raise StopIteration\n",
        "        if self.count == 0:\n",
        "            self.count += 1\n",
        "            return self.a\n",
        "        elif self.count == 1:\n",
        "            self.count += 1\n",
        "            return self.b\n",
        "        else:\n",
        "            self.a, self.b = self.b, self.a + self.b\n",
        "            self.count += 1\n",
        "            return self.b"
      ],
      "metadata": {
        "id": "FXmcVA7Pxofc"
      },
      "execution_count": 1,
      "outputs": []
    },
    {
      "cell_type": "code",
      "source": [
        "fib = Fibonacci(10)\n",
        "\n",
        "for num in fib:\n",
        "    print(num, end=' ')"
      ],
      "metadata": {
        "colab": {
          "base_uri": "https://localhost:8080/"
        },
        "id": "BXyHzPLUO3ZV",
        "outputId": "8618a1f9-7e44-447b-a0b7-85ef70f848b6"
      },
      "execution_count": 2,
      "outputs": [
        {
          "output_type": "stream",
          "name": "stdout",
          "text": [
            "0 1 1 2 3 5 8 13 21 34 "
          ]
        }
      ]
    },
    {
      "cell_type": "code",
      "source": [
        "#6.\tWrite a generator function in Python that yields the powers of 2 up to a given exponent.\n",
        "def powers_of_two(max_exponent):\n",
        "    for i in range(max_exponent + 1):\n",
        "        yield 2 ** i\n",
        "\n",
        "\n",
        "for power in powers_of_two(5):\n",
        "    print(power)\n"
      ],
      "metadata": {
        "colab": {
          "base_uri": "https://localhost:8080/"
        },
        "id": "JQTiIe9IO-fA",
        "outputId": "d98abbfe-b4b6-4c84-d4c5-58e7cd1076d1"
      },
      "execution_count": 7,
      "outputs": [
        {
          "output_type": "stream",
          "name": "stdout",
          "text": [
            "1\n",
            "2\n",
            "4\n",
            "8\n",
            "16\n",
            "32\n"
          ]
        }
      ]
    },
    {
      "cell_type": "code",
      "source": [
        "#7:  Implement a generator function that reads a file line by line and yields each line as a string.\n",
        "def read_file_lines(filename):\n",
        "  with open(filename, 'r') as file:\n",
        "        for line in file:\n",
        "            yield line.strip()\n",
        "\n",
        "# Call the generator and print each line\n",
        "for line in read_file_lines('example.txt'): #here we need to pass the name of the file eg, 'example.txt'\n",
        "  print(line)\n"
      ],
      "metadata": {
        "colab": {
          "base_uri": "https://localhost:8080/",
          "height": 315
        },
        "id": "nXPW83VMPWTv",
        "outputId": "ddc5059b-9d3e-4733-c0a0-3af223988fff"
      },
      "execution_count": 11,
      "outputs": [
        {
          "output_type": "error",
          "ename": "FileNotFoundError",
          "evalue": "[Errno 2] No such file or directory: 'example.txt'",
          "traceback": [
            "\u001b[0;31m---------------------------------------------------------------------------\u001b[0m",
            "\u001b[0;31mFileNotFoundError\u001b[0m                         Traceback (most recent call last)",
            "\u001b[0;32m/tmp/ipython-input-11-3516327967.py\u001b[0m in \u001b[0;36m<cell line: 0>\u001b[0;34m()\u001b[0m\n\u001b[1;32m      6\u001b[0m \u001b[0;34m\u001b[0m\u001b[0m\n\u001b[1;32m      7\u001b[0m \u001b[0;31m# Call the generator and print each line\u001b[0m\u001b[0;34m\u001b[0m\u001b[0;34m\u001b[0m\u001b[0m\n\u001b[0;32m----> 8\u001b[0;31m \u001b[0;32mfor\u001b[0m \u001b[0mline\u001b[0m \u001b[0;32min\u001b[0m \u001b[0mread_file_lines\u001b[0m\u001b[0;34m(\u001b[0m\u001b[0;34m'example.txt'\u001b[0m\u001b[0;34m)\u001b[0m\u001b[0;34m:\u001b[0m \u001b[0;31m#here we need to pass the name of the file eg, 'example.txt'\u001b[0m\u001b[0;34m\u001b[0m\u001b[0;34m\u001b[0m\u001b[0m\n\u001b[0m\u001b[1;32m      9\u001b[0m   \u001b[0mprint\u001b[0m\u001b[0;34m(\u001b[0m\u001b[0mline\u001b[0m\u001b[0;34m)\u001b[0m\u001b[0;34m\u001b[0m\u001b[0;34m\u001b[0m\u001b[0m\n",
            "\u001b[0;32m/tmp/ipython-input-11-3516327967.py\u001b[0m in \u001b[0;36mread_file_lines\u001b[0;34m(filename)\u001b[0m\n\u001b[1;32m      1\u001b[0m \u001b[0;31m#7:  Implement a generator function that reads a file line by line and yields each line as a string.\u001b[0m\u001b[0;34m\u001b[0m\u001b[0;34m\u001b[0m\u001b[0m\n\u001b[1;32m      2\u001b[0m \u001b[0;32mdef\u001b[0m \u001b[0mread_file_lines\u001b[0m\u001b[0;34m(\u001b[0m\u001b[0mfilename\u001b[0m\u001b[0;34m)\u001b[0m\u001b[0;34m:\u001b[0m\u001b[0;34m\u001b[0m\u001b[0;34m\u001b[0m\u001b[0m\n\u001b[0;32m----> 3\u001b[0;31m   \u001b[0;32mwith\u001b[0m \u001b[0mopen\u001b[0m\u001b[0;34m(\u001b[0m\u001b[0mfilename\u001b[0m\u001b[0;34m,\u001b[0m \u001b[0;34m'r'\u001b[0m\u001b[0;34m)\u001b[0m \u001b[0;32mas\u001b[0m \u001b[0mfile\u001b[0m\u001b[0;34m:\u001b[0m\u001b[0;34m\u001b[0m\u001b[0;34m\u001b[0m\u001b[0m\n\u001b[0m\u001b[1;32m      4\u001b[0m         \u001b[0;32mfor\u001b[0m \u001b[0mline\u001b[0m \u001b[0;32min\u001b[0m \u001b[0mfile\u001b[0m\u001b[0;34m:\u001b[0m\u001b[0;34m\u001b[0m\u001b[0;34m\u001b[0m\u001b[0m\n\u001b[1;32m      5\u001b[0m             \u001b[0;32myield\u001b[0m \u001b[0mline\u001b[0m\u001b[0;34m.\u001b[0m\u001b[0mstrip\u001b[0m\u001b[0;34m(\u001b[0m\u001b[0;34m)\u001b[0m\u001b[0;34m\u001b[0m\u001b[0;34m\u001b[0m\u001b[0m\n",
            "\u001b[0;31mFileNotFoundError\u001b[0m: [Errno 2] No such file or directory: 'example.txt'"
          ]
        }
      ]
    },
    {
      "cell_type": "code",
      "source": [
        "#8: Use a lambda function in Python to sort a list of tuples based on the second element of each tuple.\n",
        "tuples = [(1, 3), (2, 1), (4, 2)]\n",
        "sorted_tuples = sorted(tuples, key=lambda x: x[1])\n",
        "\n",
        "print(sorted_tuples)"
      ],
      "metadata": {
        "colab": {
          "base_uri": "https://localhost:8080/"
        },
        "id": "ixgPV-BBPdou",
        "outputId": "e005ce2d-ffd6-437a-89c8-fd89bb028bab"
      },
      "execution_count": 12,
      "outputs": [
        {
          "output_type": "stream",
          "name": "stdout",
          "text": [
            "[(2, 1), (4, 2), (1, 3)]\n"
          ]
        }
      ]
    },
    {
      "cell_type": "code",
      "source": [
        "#9: Write a Python program that uses `map()` to convert a list of temperatures from Celsius to Fahrenheit.\n",
        "celsius = [0, 20, 37, 100]\n",
        "fahrenheit = list(map(lambda c: (c * 9/5) + 32, celsius))\n",
        "\n",
        "print(fahrenheit)"
      ],
      "metadata": {
        "colab": {
          "base_uri": "https://localhost:8080/"
        },
        "id": "gOX7Myw1Qhoe",
        "outputId": "77ad6337-8161-491a-a8a1-0b7f4689187e"
      },
      "execution_count": 13,
      "outputs": [
        {
          "output_type": "stream",
          "name": "stdout",
          "text": [
            "[32.0, 68.0, 98.6, 212.0]\n"
          ]
        }
      ]
    },
    {
      "cell_type": "code",
      "source": [
        "#10:Create a Python program that uses `filter()` to remove all the vowels from a given string.\n",
        "def remove_vowels(s):\n",
        "    return ''.join(filter(lambda x: x.lower() not in 'aeiou', s))\n",
        "\n",
        "# Example usage:\n",
        "result = remove_vowels(\"Hi my Name is Subham\")\n",
        "\n",
        "print(result)"
      ],
      "metadata": {
        "colab": {
          "base_uri": "https://localhost:8080/"
        },
        "id": "2RlHXETRQkH6",
        "outputId": "43c4339e-6c19-4045-ea4c-0194085d775e"
      },
      "execution_count": 16,
      "outputs": [
        {
          "output_type": "stream",
          "name": "stdout",
          "text": [
            "H my Nm s Sbhm\n"
          ]
        }
      ]
    },
    {
      "cell_type": "code",
      "source": [
        "#11: Imagine an accounting routine used in a book shop. It works on a list with sublists, which look like this:\n",
        "orders = [\n",
        "    [34587, \"Learning Python, Mark Lutz\", 4, 40.95],\n",
        "    [98762, \"Programming Python, Mark Lutz\", 5, 56.80],\n",
        "    [77226, \"Head First Python, Paul Barry\", 3, 32.95],\n",
        "    [88112, \"Einfuhrung in Python3, Bernd Klein\", 3, 24.99]\n",
        "]\n",
        "\n",
        "\n",
        "order_totals = list(map(lambda order:\n",
        "    (order[0], order[2] * order[3] + 10 if order[2] * order[3] < 100 else order[2] * order[3]), orders))\n",
        "\n",
        "print(order_totals)\n"
      ],
      "metadata": {
        "colab": {
          "base_uri": "https://localhost:8080/"
        },
        "id": "n8YtHyIUQm9U",
        "outputId": "459b0a81-f273-4410-c032-166c6e09e9f7"
      },
      "execution_count": 15,
      "outputs": [
        {
          "output_type": "stream",
          "name": "stdout",
          "text": [
            "[(34587, 163.8), (98762, 284.0), (77226, 108.85000000000001), (88112, 84.97)]\n"
          ]
        }
      ]
    },
    {
      "cell_type": "code",
      "source": [],
      "metadata": {
        "id": "gpuqc0SKQpoo"
      },
      "execution_count": null,
      "outputs": []
    }
  ]
}
