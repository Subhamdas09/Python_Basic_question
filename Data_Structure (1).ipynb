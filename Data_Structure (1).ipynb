{
  "nbformat": 4,
  "nbformat_minor": 0,
  "metadata": {
    "colab": {
      "provenance": []
    },
    "kernelspec": {
      "name": "python3",
      "display_name": "Python 3"
    },
    "language_info": {
      "name": "python"
    }
  },
  "cells": [
    {
      "cell_type": "markdown",
      "source": [],
      "metadata": {
        "id": "s_lO0T8Fu4k9"
      }
    },
    {
      "cell_type": "markdown",
      "source": [
        "                 **Data Types and Structures Questions**\n",
        "\n",
        "1.What are data structures, and why are they important?\n",
        "--\n",
        "Data structures are specialized formats for organizing, storing, and accessing collections of data. They provide efficient ways to manage information based on its characteristics and intended use.\n",
        "important: Choosing the right data structure significantly impacts the efficiency and performance of your program.\n",
        "Well-chosen data structures can:\n",
        "Simplify data manipulation (adding, removing, modifying elements)\n",
        "Optimize searching and sorting operations\n",
        "Conserve memory usage\n",
        "\n",
        "2.Explain the difference between mutable and immutable data types with examples\n",
        "--\n",
        "Mutable Data Types\n",
        "Definition: Objects whose value can be changed after creation.\n",
        "\n",
        "Examples: list, dict, set, bytearray\n",
        "\n",
        "Immutable Data Types\n",
        "Definition: Objects whose value can't be changed after creation.\n",
        "\n",
        "Examples: int, float, str, tuple, bool, frozenset\n",
        "\n",
        "3.What are the main differences between lists and tuples?\n",
        "--\n",
        "lists are mutable but tuples are immutable.\n",
        "\n",
        "4.in Python Describe how dictionaries store data?\n",
        "--\n",
        "Dictionaries store data in key-value pairs using a hash table. Each key is hashed to a memory location where its value is stored.\n",
        "\n",
        "5.Why might you use a set instead of a list in Python?\n",
        "--\n",
        "To store unique elements only.\n",
        "To perform faster membership tests (in is faster in sets).\n",
        "\n",
        "6.What is a string in Python, and how is it different from a list?\n",
        "--\n",
        "A string in Python is a sequence of characters enclosed within single quotes ('), double quotes (\"), or triple quotes (''' / \"\"\").\n",
        "\n",
        "string is mutable but list is immutable\n",
        "string denote by  (', \")\n",
        "list denote by  ([ ])\n",
        "\n",
        "7.How do tuples ensure data integrity in Python?\n",
        "--\n",
        "Tuples ensure data integrity by being immutable, predictable, and safe from unintended changes, making them ideal for protecting fixed data in your programs.\n",
        "\n",
        "8.What is a hash table, and how does it relate to dictionaries in Python?\n",
        "--\n",
        "A hash table is a data structure that maps keys to values using a hashing function.\n",
        "In Python, a dictionary is implemented as a hash table internally.\n",
        "It allows fast retrieval (average O(1) time) using keys.\n",
        "\n",
        "9.Can lists contain different data types in Python?\n",
        "--\n",
        "\n",
        " Yes, lists in Python can store multiple data types (e.g., integers, strings, floats, other lists).\n",
        "\n",
        "10.Explain why strings are immutable in Python?\n",
        "--\n",
        "Improve performance (safe to cache and reuse).\n",
        "Allow hashing (for use in sets/dictionaries).\n",
        "Prevent accidental changes during operations.\n",
        "\n",
        "11.What advantages do dictionaries offer over lists for certain tasks?\n",
        "--\n",
        "Fast lookups using keys (O(1) time).\n",
        "Key-value mapping, which makes data easier to access semantically.\n",
        "Example: Looking up a student’s grade by name is easier with a dictionary than a list.\n",
        "\n",
        "12.How do sets handle duplicate values in Python?\n",
        "--\n",
        "Sets automatically remove duplicates.\n",
        "\n",
        "13.Describe a scenario where using a tuple would be preferable over a list?\n",
        "--\n",
        "Use a tuple when the data should not change, such as:\n",
        "Coordinates ((x, y))\n",
        "Fixed configuration\n",
        "Dictionary keys\n",
        "\n",
        "14.How does the “in” keyword work differently for lists and dictionaries?\n",
        "--\n",
        "List: Checks if a value exists.\n",
        "Dictionary: Checks if a key exists (not the value).\n",
        "\n",
        "15.Can you modify the elements of a tuple? Explain why or why not\n",
        "--\n",
        "No, tuples are immutable — once created, you cannot change, add, or delete their elements.\n",
        "\n",
        "16.What is a nested dictionary, and give an example of its use case?\n",
        "--\n",
        "A nested dictionary is a dictionary where values are also dictionaries.\n",
        "students = {\n",
        "    \"101\": {\"name\": \"Alice\", \"marks\": 85},\n",
        "    \"102\": {\"name\": \"Bob\", \"marks\": 90}\n",
        "}\n",
        "\n",
        "17.Describe the time complexity of accessing elements in a dictionary.\n",
        "--\n",
        "Average case: O(1) (very fast, constant time).\n",
        "Worst case (due to hash collisions): O(n), but rare in practice.\n",
        "\n",
        "18.In what situations are lists preferred over dictionaries?\n",
        "--\n",
        "When order matters and you don’t need key-value pairs.\n",
        "When data doesn’t have unique identifiers (like a list of items in a cart).\n",
        "When you need indexed access by position.\n",
        "\n",
        "19.Why are dictionaries considered unordered, and how does that affect data retrieval?\n",
        "--\n",
        "Until Python 3.6, dictionaries didn’t maintain insertion order.\n",
        "Now, they preserve order (since 3.7), but you should not rely on it unless necessary.\n",
        "Retrieval is done by key, not position — so order isn’t always relevant.\n",
        "\n",
        "20.Explain the difference between a list and a dictionary in terms of data retrieval.\n",
        "--\n",
        " List:\n",
        "Retrieval\tBy index (position)\n",
        "Speed\tO(1) by index\n",
        "Structure\tOrdered collection\n",
        "Use case\tWhen order matters\n",
        "\n",
        " Dictionary:\n",
        "Retrieval By key (identifier)\n",
        "Speed\tO(1) by key\n",
        "Structure\tKey-value mapping\n",
        "Use case When fast access by key is needed"
      ],
      "metadata": {
        "id": "gfh0E8sju8b9"
      }
    },
    {
      "cell_type": "code",
      "source": [
        "# 1. Create a string with your name and print it\n",
        "name = \"subham das\"\n",
        "print(name)"
      ],
      "metadata": {
        "id": "UrgRLRf3C9xw",
        "colab": {
          "base_uri": "https://localhost:8080/"
        },
        "outputId": "b5451ca4-8d68-4181-b581-b1b19e61365c"
      },
      "execution_count": null,
      "outputs": [
        {
          "output_type": "stream",
          "name": "stdout",
          "text": [
            "subham das\n"
          ]
        }
      ]
    },
    {
      "cell_type": "code",
      "source": [
        "# 2. Find the length of the string \"Hello World\"\n",
        "string = \"Hello world\"\n",
        "print(len(string))"
      ],
      "metadata": {
        "id": "DM-L00hneduQ",
        "colab": {
          "base_uri": "https://localhost:8080/"
        },
        "outputId": "521da463-09ea-42f0-feb5-65617be1994d"
      },
      "execution_count": null,
      "outputs": [
        {
          "output_type": "stream",
          "name": "stdout",
          "text": [
            "11\n"
          ]
        }
      ]
    },
    {
      "cell_type": "code",
      "source": [
        "# 3. Slice the first 3 characters from the string \"Python Programming\"\n",
        "string = \"Python Programming\"\n",
        "print(string[3:])"
      ],
      "metadata": {
        "colab": {
          "base_uri": "https://localhost:8080/"
        },
        "id": "pcV2OT5U8Vpe",
        "outputId": "65072e87-a9f5-442f-abc6-027fd53e73d9"
      },
      "execution_count": null,
      "outputs": [
        {
          "output_type": "stream",
          "name": "stdout",
          "text": [
            "hon Programming\n"
          ]
        }
      ]
    },
    {
      "cell_type": "code",
      "source": [
        "# 4. Convert the string \"hello\" to uppercase\n",
        "string = \"hello\"\n",
        "print(string.upper())"
      ],
      "metadata": {
        "colab": {
          "base_uri": "https://localhost:8080/"
        },
        "id": "0YWZ371X8zGA",
        "outputId": "cb590586-489c-4a4e-d353-a4691af73a9e"
      },
      "execution_count": null,
      "outputs": [
        {
          "output_type": "stream",
          "name": "stdout",
          "text": [
            "HELLO\n"
          ]
        }
      ]
    },
    {
      "cell_type": "code",
      "source": [
        "# 5. Replace \"apple\" with \"orange\" in the string \"I like apple\"\n",
        "a = \"I like apple\"\n",
        "print(a.replace(\"apple\", \"orange\"))\n"
      ],
      "metadata": {
        "colab": {
          "base_uri": "https://localhost:8080/"
        },
        "id": "v9Taxcho9Iuk",
        "outputId": "be868992-56bf-4338-9668-707bf8addeee"
      },
      "execution_count": null,
      "outputs": [
        {
          "output_type": "stream",
          "name": "stdout",
          "text": [
            "I like orange\n"
          ]
        }
      ]
    },
    {
      "cell_type": "code",
      "source": [
        "# 6. Create a list with numbers 1 to 5 and print it\n",
        "list = [1,2,3,4,5]\n",
        "print(list)"
      ],
      "metadata": {
        "colab": {
          "base_uri": "https://localhost:8080/"
        },
        "id": "peb4X1Nz-Cn8",
        "outputId": "8cc58eb1-261d-43f5-c582-a23bd3cfd48f"
      },
      "execution_count": null,
      "outputs": [
        {
          "output_type": "stream",
          "name": "stdout",
          "text": [
            "[1, 2, 3, 4, 5]\n"
          ]
        }
      ]
    },
    {
      "cell_type": "code",
      "source": [
        "# 7. Append the number 10 to the list [1, 2, 3, 4]\n",
        "list = [1,2,3,4]\n",
        "list.append(10)\n",
        "print(list)"
      ],
      "metadata": {
        "colab": {
          "base_uri": "https://localhost:8080/"
        },
        "id": "X8pt4P8N-raX",
        "outputId": "f7ce4433-176b-4031-9fe9-a6933a7af07a"
      },
      "execution_count": null,
      "outputs": [
        {
          "output_type": "stream",
          "name": "stdout",
          "text": [
            "[1, 2, 3, 4, 10]\n"
          ]
        }
      ]
    },
    {
      "cell_type": "code",
      "source": [
        "# 8. Remove the number 3 from the list [1, 2, 3, 4, 5]\n",
        "list = [1,2,3,4,5]\n",
        "list.remove(3)\n",
        "print(list)"
      ],
      "metadata": {
        "colab": {
          "base_uri": "https://localhost:8080/"
        },
        "id": "wg_RbEic-6Z4",
        "outputId": "76741711-cf35-4cca-8864-52c7235d4a4e"
      },
      "execution_count": null,
      "outputs": [
        {
          "output_type": "stream",
          "name": "stdout",
          "text": [
            "[1, 2, 4, 5]\n"
          ]
        }
      ]
    },
    {
      "cell_type": "code",
      "source": [
        "# 9. Access the second element in the list ['a', 'b', 'c', 'd']\n",
        "list = ['a', 'b', 'c', 'd']\n",
        "print(list[1])"
      ],
      "metadata": {
        "colab": {
          "base_uri": "https://localhost:8080/"
        },
        "id": "nJUho3Q3_hoe",
        "outputId": "23484393-7dc8-4c7f-ab92-cbc2a229936e"
      },
      "execution_count": null,
      "outputs": [
        {
          "output_type": "stream",
          "name": "stdout",
          "text": [
            "b\n"
          ]
        }
      ]
    },
    {
      "cell_type": "code",
      "source": [
        "# 10. Reverse the list [10, 20, 30, 40, 50]\n",
        "list = [10, 20, 30, 40, 50]\n",
        "list.reverse()\n",
        "print(list)\n",
        "\n",
        "list = [10, 20, 30, 40, 50]\n",
        "print(list[::-1])"
      ],
      "metadata": {
        "colab": {
          "base_uri": "https://localhost:8080/"
        },
        "id": "4Wl9TBlC_0Hr",
        "outputId": "ea9a8d41-3f0f-4bd3-ddef-27834eaf5686"
      },
      "execution_count": null,
      "outputs": [
        {
          "output_type": "stream",
          "name": "stdout",
          "text": [
            "[50, 40, 30, 20, 10]\n",
            "[50, 40, 30, 20, 10]\n"
          ]
        }
      ]
    },
    {
      "cell_type": "code",
      "source": [
        "# 11. Create a tuple with elements 100, 200, 300 and print it\n",
        "tuple = (100,200,300)\n",
        "print(tuple)"
      ],
      "metadata": {
        "colab": {
          "base_uri": "https://localhost:8080/"
        },
        "id": "d8N_y_rDAK0Z",
        "outputId": "98c7dc1e-3e01-4d53-c649-8f28e28b16af"
      },
      "execution_count": null,
      "outputs": [
        {
          "output_type": "stream",
          "name": "stdout",
          "text": [
            "(100, 200, 300)\n"
          ]
        }
      ]
    },
    {
      "cell_type": "code",
      "source": [
        "# 12. Access the second-to-last element of the tuple\n",
        "tuple = (100,200,300)\n",
        "print(tuple[-2])"
      ],
      "metadata": {
        "id": "uHGGgP81ASs2",
        "colab": {
          "base_uri": "https://localhost:8080/"
        },
        "outputId": "6a02e024-141b-422e-dd96-db974c84cf9f"
      },
      "execution_count": 1,
      "outputs": [
        {
          "output_type": "stream",
          "name": "stdout",
          "text": [
            "200\n"
          ]
        }
      ]
    },
    {
      "cell_type": "code",
      "source": [
        "# 13. Find the minimum number in the tuple\n",
        "tuple = (100,200,300,400)\n",
        "print(min(tuple))"
      ],
      "metadata": {
        "colab": {
          "base_uri": "https://localhost:8080/"
        },
        "id": "XTbo2JYxXAbc",
        "outputId": "de54d894-2141-49df-96f3-943e39d93f7b"
      },
      "execution_count": 2,
      "outputs": [
        {
          "output_type": "stream",
          "name": "stdout",
          "text": [
            "100\n"
          ]
        }
      ]
    },
    {
      "cell_type": "code",
      "source": [
        "# 14. Find the index of the element \"cat\"\n",
        "animals = ('dog', 'cat', 'rabbit')\n",
        "print(animals.index('cat'))"
      ],
      "metadata": {
        "colab": {
          "base_uri": "https://localhost:8080/"
        },
        "id": "102X8IE8X3LP",
        "outputId": "0a975c49-61e0-4c89-ca14-90277f8d0f61"
      },
      "execution_count": 3,
      "outputs": [
        {
          "output_type": "stream",
          "name": "stdout",
          "text": [
            "1\n"
          ]
        }
      ]
    },
    {
      "cell_type": "code",
      "source": [
        "# 15. Check if \"kiwi\" is in the fruit tuple\n",
        "fruits = (\"apple\", \"banana\", \"cherry\")\n",
        "print(\"kiwi\" in fruits)"
      ],
      "metadata": {
        "colab": {
          "base_uri": "https://localhost:8080/"
        },
        "id": "LnuwcDh6YN2D",
        "outputId": "9261254f-b9b2-472c-8095-ac5a133a7889"
      },
      "execution_count": 4,
      "outputs": [
        {
          "output_type": "stream",
          "name": "stdout",
          "text": [
            "False\n"
          ]
        }
      ]
    },
    {
      "cell_type": "code",
      "source": [
        "# 16. Create a set with elements 'a', 'b', 'c' and print it\n",
        "set3 = {'a', 'b', 'c'}\n",
        "print(set3)"
      ],
      "metadata": {
        "colab": {
          "base_uri": "https://localhost:8080/"
        },
        "id": "IF8wPjb8YxxM",
        "outputId": "bd99871f-5327-45f9-ef25-a0295b2974bc"
      },
      "execution_count": 42,
      "outputs": [
        {
          "output_type": "stream",
          "name": "stdout",
          "text": [
            "{'b', 'a', 'c'}\n"
          ]
        }
      ]
    },
    {
      "cell_type": "code",
      "source": [
        "# 17. Clear all elements from the set\n",
        "set0 = {\"c\",\"d\",\"e\"}\n",
        "set0.clear()\n",
        "print(set0)"
      ],
      "metadata": {
        "colab": {
          "base_uri": "https://localhost:8080/"
        },
        "id": "xY7TdtW1Y8Qx",
        "outputId": "b56d77e8-058e-4678-8db4-be5e00d8e4b8"
      },
      "execution_count": 41,
      "outputs": [
        {
          "output_type": "stream",
          "name": "stdout",
          "text": [
            "set()\n"
          ]
        }
      ]
    },
    {
      "cell_type": "code",
      "source": [
        "from os import remove\n",
        "# 18. Remove the element 4 from the set\n",
        "set1 = {1, 2, 3, 4}\n",
        "set1.remove(4)\n",
        "print(set1)"
      ],
      "metadata": {
        "colab": {
          "base_uri": "https://localhost:8080/"
        },
        "id": "qszkjVUqZQdP",
        "outputId": "2c882280-c4ba-4bca-c450-b5d98c9a2203"
      },
      "execution_count": 40,
      "outputs": [
        {
          "output_type": "stream",
          "name": "stdout",
          "text": [
            "{1, 2, 3}\n"
          ]
        }
      ]
    },
    {
      "cell_type": "code",
      "source": [
        "# 19. Find the union of two sets\n",
        "set1 = {1, 2, 3}\n",
        "set2 = {3, 4, 5}\n",
        "print(set1.union(set2))"
      ],
      "metadata": {
        "colab": {
          "base_uri": "https://localhost:8080/"
        },
        "id": "rTv4MxTBZ5ZC",
        "outputId": "beafe5ef-e078-4ad0-b8b7-a58839ee32b9"
      },
      "execution_count": 12,
      "outputs": [
        {
          "output_type": "stream",
          "name": "stdout",
          "text": [
            "{1, 2, 3, 4, 5}\n"
          ]
        }
      ]
    },
    {
      "cell_type": "code",
      "source": [
        "# 20. Find the intersection of two sets\n",
        "set1 = {1, 2, 3}\n",
        "set2 = {3, 4, 5}\n",
        "print(set1.intersection(set2))"
      ],
      "metadata": {
        "colab": {
          "base_uri": "https://localhost:8080/"
        },
        "id": "Gxg2hSdXaYHx",
        "outputId": "862f3716-f80b-431d-b625-d271e2cab286"
      },
      "execution_count": 13,
      "outputs": [
        {
          "output_type": "stream",
          "name": "stdout",
          "text": [
            "{3}\n"
          ]
        }
      ]
    },
    {
      "cell_type": "code",
      "source": [
        "# 21. Create a dictionary and print it\n",
        "dictionary = {\"name\":\"subham\", \"age\":23, \"gender\":\"male\"}\n",
        "print(dictionary)"
      ],
      "metadata": {
        "colab": {
          "base_uri": "https://localhost:8080/"
        },
        "id": "MMAO3UAgapQh",
        "outputId": "d5a455a2-6a46-4355-f4f1-aef4c49a3539"
      },
      "execution_count": 14,
      "outputs": [
        {
          "output_type": "stream",
          "name": "stdout",
          "text": [
            "{'name': 'subham', 'age': 23, 'gender': 'male'}\n"
          ]
        }
      ]
    },
    {
      "cell_type": "code",
      "source": [
        "# 22. Add a new key-value pair to the dictionary\n",
        "dictionary = {\"name\":\"subham\", \"age\":23, \"gender\":\"male\"}\n",
        "dictionary[\"city\"] = \"kolkata\"\n",
        "print(dictionary)"
      ],
      "metadata": {
        "colab": {
          "base_uri": "https://localhost:8080/"
        },
        "id": "6ceFOsUua-HG",
        "outputId": "68ec2281-9b00-411d-955a-af6da9423178"
      },
      "execution_count": 15,
      "outputs": [
        {
          "output_type": "stream",
          "name": "stdout",
          "text": [
            "{'name': 'subham', 'age': 23, 'gender': 'male', 'city': 'kolkata'}\n"
          ]
        }
      ]
    },
    {
      "cell_type": "code",
      "source": [
        "# 23. Access the value associated with the key \"name\"\n",
        "dictionary = {\"name\":\"subham das\", \"age\":23, \"gender\":\"male\"}\n",
        "print(dictionary[\"name\"])"
      ],
      "metadata": {
        "colab": {
          "base_uri": "https://localhost:8080/"
        },
        "id": "_usmFmetbY91",
        "outputId": "89308035-c88d-4bb5-af54-cbf90b79d505"
      },
      "execution_count": 17,
      "outputs": [
        {
          "output_type": "stream",
          "name": "stdout",
          "text": [
            "subham das\n"
          ]
        }
      ]
    },
    {
      "cell_type": "code",
      "source": [
        "# 24. Remove the key \"age\" from the dictionary\n",
        "dictionary = {\"name\":\"subham das\", \"age\":23, \"gender\":\"male\"}\n",
        "dictionary.pop(\"age\")\n",
        "print(dictionary)"
      ],
      "metadata": {
        "colab": {
          "base_uri": "https://localhost:8080/"
        },
        "id": "41xKaJbibp2o",
        "outputId": "e3affff2-3768-4849-8699-5551db4727e2"
      },
      "execution_count": 19,
      "outputs": [
        {
          "output_type": "stream",
          "name": "stdout",
          "text": [
            "{'name': 'subham das', 'gender': 'male'}\n"
          ]
        }
      ]
    },
    {
      "cell_type": "code",
      "source": [
        "# 25. Check if the key \"city\" exists\n",
        "dictionary = {\"name\":\"subham das\", \"age\":23, \"gender\":\"male\"}\n",
        "print(\"city\" in dictionary)"
      ],
      "metadata": {
        "colab": {
          "base_uri": "https://localhost:8080/"
        },
        "id": "9X9ssjQVb7HZ",
        "outputId": "7cd728c1-0e2c-4a84-e5be-28d2373bf0b8"
      },
      "execution_count": 20,
      "outputs": [
        {
          "output_type": "stream",
          "name": "stdout",
          "text": [
            "False\n"
          ]
        }
      ]
    },
    {
      "cell_type": "code",
      "source": [
        "# 26. Create a list, tuple, and dictionary, and print them\n",
        "list = [1,2,3]\n",
        "tuple = (1,2,3)\n",
        "dictionary = {\"name\":\"subham das\", \"age\":23, \"gender\":\"male\"}\n",
        "print(list, tuple, dictionary)"
      ],
      "metadata": {
        "colab": {
          "base_uri": "https://localhost:8080/"
        },
        "id": "kQ3tIrMYcLea",
        "outputId": "98fbd494-745f-4e28-c934-6db017abade9"
      },
      "execution_count": 26,
      "outputs": [
        {
          "output_type": "stream",
          "name": "stdout",
          "text": [
            "[1, 2, 3] (1, 2, 3) {'name': 'subham das', 'age': 23, 'gender': 'male'}\n"
          ]
        }
      ]
    },
    {
      "cell_type": "code",
      "source": [
        "# 27. Create a list of 5 random numbers and sort it\n",
        "\n",
        "import random\n",
        "rand_list = random.sample(range(1, 101), 5)\n",
        "rand_list.sort()\n",
        "print(rand_list)"
      ],
      "metadata": {
        "colab": {
          "base_uri": "https://localhost:8080/"
        },
        "id": "offMQypfd3j1",
        "outputId": "9e0a3684-afcc-4cff-f505-ac7259fde2a1"
      },
      "execution_count": 29,
      "outputs": [
        {
          "output_type": "stream",
          "name": "stdout",
          "text": [
            "[5, 10, 12, 39, 98]\n"
          ]
        }
      ]
    },
    {
      "cell_type": "code",
      "source": [
        "# 28. Create a list with strings and print the element at the third index\n",
        "string_list = [\"apple\", \"banana\", \"cherry\", \"date\", \"fig\"]\n",
        "print(string_list[3])"
      ],
      "metadata": {
        "colab": {
          "base_uri": "https://localhost:8080/"
        },
        "id": "mkrnbqiHfF7a",
        "outputId": "d5161c56-9d34-4c3b-cc10-e6a3ca6f78c2"
      },
      "execution_count": 30,
      "outputs": [
        {
          "output_type": "stream",
          "name": "stdout",
          "text": [
            "date\n"
          ]
        }
      ]
    },
    {
      "cell_type": "code",
      "source": [
        "# 29. Combine two dictionaries into one\n",
        "dict1 = {\"name\":\"subham das\", \"age\":23}\n",
        "dict2 = {\"gender\":\"male\", \"city\":\"kolkata\"}\n",
        "dict1.update(dict2)\n",
        "print(dict1)\n"
      ],
      "metadata": {
        "colab": {
          "base_uri": "https://localhost:8080/"
        },
        "id": "33jAgR0af04v",
        "outputId": "2e1569fe-9be1-4d06-a8fe-2a4c98e8bf01"
      },
      "execution_count": 31,
      "outputs": [
        {
          "output_type": "stream",
          "name": "stdout",
          "text": [
            "{'name': 'subham das', 'age': 23, 'gender': 'male', 'city': 'kolkata'}\n"
          ]
        }
      ]
    },
    {
      "cell_type": "code",
      "source": [
        "# 30. Convert a list of strings into a set\n",
        "del set\n",
        "string_list = [\"apple\", \"banana\", \"cherry\", \"date\", \"fig\"]\n",
        "string_set = set(string_list)\n",
        "print(string_set)\n"
      ],
      "metadata": {
        "colab": {
          "base_uri": "https://localhost:8080/"
        },
        "id": "8DZLBqE3jX1M",
        "outputId": "b0d367ca-0547-4429-e182-43ffb1cbb81b"
      },
      "execution_count": 58,
      "outputs": [
        {
          "output_type": "stream",
          "name": "stdout",
          "text": [
            "{'apple', 'banana', 'date', 'cherry', 'fig'}\n"
          ]
        }
      ]
    },
    {
      "cell_type": "code",
      "source": [],
      "metadata": {
        "id": "_jhsrjj4j1yP"
      },
      "execution_count": null,
      "outputs": []
    }
  ]
}
